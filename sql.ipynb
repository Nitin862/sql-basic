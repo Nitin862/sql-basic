{
 "cells": [
  {
   "cell_type": "code",
   "execution_count": 4,
   "id": "61ca53f2-bc8f-4ea2-a3e0-dd891db9a4d7",
   "metadata": {},
   "outputs": [
    {
     "data": {
      "text/plain": [
       "'Q1. What is a database? Differentiate between SQL and NoSQL databases.'"
      ]
     },
     "execution_count": 4,
     "metadata": {},
     "output_type": "execute_result"
    }
   ],
   "source": [
    "'''Q1. What is a database? Differentiate between SQL and NoSQL databases.'''"
   ]
  },
  {
   "cell_type": "code",
   "execution_count": 17,
   "id": "685deff7-a32e-466c-b352-257c3595e805",
   "metadata": {},
   "outputs": [
    {
     "data": {
      "text/plain": [
       "'A dataset is a collection of data in a digital format that is readily accessible. \\n\\nAn electronic collection of structured data that has been saved in an ordered manner in a computer system is called a database. It is made to handle, store, retrieve, and update data effectively.\\n\\n\\nNoSQL (Not Only SQL) and SQL (Structured Query Language) are two distinct categories of database management systems, each having unique attributes:\\n\\nSQL-based databases:\\n\\nThe foundation of SQL databases is an organized schema that stores information in tables, rows, and columns.\\nThey guarantee data integrity by adhering to the ACID (Atomicity, Consistency, Isolation, Durability) criteria.\\nOracle, MySQL, PostgreSQL, and Microsoft SQL Server are a few examples of SQL databases.\\nDatabases without SQL:\\n\\nNoSQL databases may manage a variety of data types, including unstructured and semi-structured data.\\nThey provide adaptable schemas, enabling'"
      ]
     },
     "execution_count": 17,
     "metadata": {},
     "output_type": "execute_result"
    }
   ],
   "source": [
    "'''A dataset is a collection of data in a digital format that is readily accessible. \n",
    "\n",
    "An electronic collection of structured data that has been saved in an ordered manner in a computer system is called a database.\n",
    "It is made to handle, store, retrieve, and update data effectively.\n",
    "\n",
    "\n",
    "NoSQL (Not Only SQL) and SQL (Structured Query Language) are two distinct categories of database management systems, each having unique attributes:\n",
    "\n",
    "SQL-based databases:\n",
    "\n",
    "The foundation of SQL databases is an organized schema that stores information in tables, rows, and columns.\n",
    "They guarantee data integrity by adhering to the ACID (Atomicity, Consistency, Isolation, Durability) criteria.\n",
    "Oracle, MySQL, PostgreSQL, and Microsoft SQL Server are a few examples of SQL databases.\n",
    "Databases without SQL:\n",
    "\n",
    "NoSQL databases may manage a variety of data types, including unstructured and semi-structured data.\n",
    "They provide adaptable schemas, enabling'''"
   ]
  },
  {
   "cell_type": "code",
   "execution_count": 8,
   "id": "bfee87c0-4524-48b6-ab1d-7a4b35e990d5",
   "metadata": {},
   "outputs": [
    {
     "data": {
      "text/plain": [
       "'Q2. What is DDL? Explain why CREATE, DROP, ALTER, and TRUNCATE are used with an example.'"
      ]
     },
     "execution_count": 8,
     "metadata": {},
     "output_type": "execute_result"
    }
   ],
   "source": [
    "'''Q2. What is DDL? Explain why CREATE, DROP, ALTER, and TRUNCATE are used with an example.'''"
   ]
  },
  {
   "cell_type": "code",
   "execution_count": 10,
   "id": "d6949773-1624-41f1-8602-523a95145cdb",
   "metadata": {},
   "outputs": [
    {
     "data": {
      "text/plain": [
       "\"Data Definition Language, or DDL for short, is a subset of Structured Query Language that\\nis used to specify and control a database's object structure. Tables, indexes, views, and other database objects can be created, \\nmodified, and deleted using DDL statements.\\nCREATE: To create new database objects, including tables, views, indexes, and databases themselves, use the CREATE statement.\\nCREATE TABLE employee(\\nid INT PRIMARY KEY\\nname VARCHAR()\\nsalary INT\\n);\\nDROP:DROP: To remove already-existing database objects, including tables, views, indexes, \\nand databases themselves, use the DROP statement.\\nDROP TABLE employees;\\nALTER: The ALTER statement is used to change constraints or add, remove, or alter columns in a table in order \\nto alter the structure of already-existing database objects.\\nALTER TABLE table_name\\nDROP COLOUMN coloumn_name ;\\nTRUNCATE: The TRUNCATE statement eliminates every record from a table while keeping the table's structure whole\\nTRUNCATE TABLE table_name ;(To delete table data)\""
      ]
     },
     "execution_count": 10,
     "metadata": {},
     "output_type": "execute_result"
    }
   ],
   "source": [
    "'''Data Definition Language, or DDL for short, is a subset of Structured Query Language that\n",
    "is used to specify and control a database's object structure. Tables, indexes, views, and other database objects can be created, \n",
    "modified, and deleted using DDL statements.\n",
    "CREATE: To create new database objects, including tables, views, indexes, and databases themselves, use the CREATE statement.\n",
    "CREATE TABLE employee(\n",
    "id INT PRIMARY KEY\n",
    "name VARCHAR()\n",
    "salary INT\n",
    ");\n",
    "DROP:DROP: To remove already-existing database objects, including tables, views, indexes, \n",
    "and databases themselves, use the DROP statement.\n",
    "DROP TABLE employees;\n",
    "ALTER: The ALTER statement is used to change constraints or add, remove, or alter columns in a table in order \n",
    "to alter the structure of already-existing database objects.\n",
    "ALTER TABLE table_name\n",
    "DROP COLOUMN coloumn_name ;\n",
    "TRUNCATE: The TRUNCATE statement eliminates every record from a table while keeping the table's structure whole\n",
    "TRUNCATE TABLE table_name ;(To delete table data)'''\n"
   ]
  },
  {
   "cell_type": "code",
   "execution_count": 11,
   "id": "50c486bd-05d8-44f0-9658-4c8dee872aca",
   "metadata": {},
   "outputs": [
    {
     "data": {
      "text/plain": [
       "'Q3. What is DML? Explain INSERT, UPDATE, and DELETE with an example.'"
      ]
     },
     "execution_count": 11,
     "metadata": {},
     "output_type": "execute_result"
    }
   ],
   "source": [
    "'''Q3. What is DML? Explain INSERT, UPDATE, and DELETE with an example.'''"
   ]
  },
  {
   "cell_type": "code",
   "execution_count": 1,
   "id": "a1cc7a41-5eab-4e23-9735-55c1e77d9561",
   "metadata": {},
   "outputs": [
    {
     "data": {
      "text/plain": [
       "'DML stands for data manupulation language in SQL. Its statement is used to manupulate data in database using UPDATE, \\ninsert, and DELETE Keyword.\\n\\nINSERT INTO student\\n(rollno, name)\\nVALUES\\n(101.\"nintin\") ;\\n UPDATE modify the existing value \\n UPDATE employees\\nSET salary = 55000\\nWHERE id = 1;\\nDELETE remove records from table\\nDELETE FROM employees\\nWHERE id = 1;\\n'"
      ]
     },
     "execution_count": 1,
     "metadata": {},
     "output_type": "execute_result"
    }
   ],
   "source": [
    "'''DML stands for data manupulation language in SQL. Its statement is used to manupulate data in database using UPDATE, \n",
    "insert, and DELETE Keyword.\n",
    "\n",
    "INSERT INTO student\n",
    "(rollno, name)\n",
    "VALUES\n",
    "(101.\"nintin\") ;\n",
    " UPDATE modify the existing value \n",
    " UPDATE employees\n",
    "SET salary = 55000\n",
    "WHERE id = 1;\n",
    "DELETE remove records from table\n",
    "DELETE FROM employees\n",
    "WHERE id = 1;\n",
    "'''\n",
    "\n"
   ]
  },
  {
   "cell_type": "code",
   "execution_count": 2,
   "id": "b8053df6-4ce3-486c-92c7-71887ff9ba21",
   "metadata": {},
   "outputs": [
    {
     "data": {
      "text/plain": [
       "'Q4. What is DQL? Explain SELECT with an example.'"
      ]
     },
     "execution_count": 2,
     "metadata": {},
     "output_type": "execute_result"
    }
   ],
   "source": [
    "'''Q4. What is DQL? Explain SELECT with an example.'''"
   ]
  },
  {
   "cell_type": "code",
   "execution_count": 3,
   "id": "001d0db0-69d1-46ce-b2e5-d428a565a709",
   "metadata": {},
   "outputs": [
    {
     "data": {
      "text/plain": [
       "'The SELECT statement in SQL is the main component of DQL, or Data Query Language (Structured Query Language).\\nData retrieval or querying from a database is done using DQL.\\n\\nThe fundamental building block of DQL is the SELECT statement, which is used to extract particular data or information from \\none or more database tables.\\nExample :\\nSELECT * FROM employee;   it will select all element of employee\\nSELECT DISTINCT city FROM student ; It will give distinct value \\nSELECT * From student LIMIT 3 ;'"
      ]
     },
     "execution_count": 3,
     "metadata": {},
     "output_type": "execute_result"
    }
   ],
   "source": [
    "'''The SELECT statement in SQL is the main component of DQL, or Data Query Language (Structured Query Language).\n",
    "Data retrieval or querying from a database is done using DQL.\n",
    "\n",
    "The fundamental building block of DQL is the SELECT statement, which is used to extract particular data or information from \n",
    "one or more database tables.\n",
    "Example :\n",
    "SELECT * FROM employee;   it will select all element of employee\n",
    "SELECT DISTINCT city FROM student ; It will give distinct value \n",
    "SELECT * From student LIMIT 3 ;'''\n"
   ]
  },
  {
   "cell_type": "code",
   "execution_count": 4,
   "id": "030586b2-052d-4f36-a1d9-0eb5e0c3c449",
   "metadata": {},
   "outputs": [
    {
     "data": {
      "text/plain": [
       "'Q5. Explain Primary Key and Foreign Key.'"
      ]
     },
     "execution_count": 4,
     "metadata": {},
     "output_type": "execute_result"
    }
   ],
   "source": [
    "'''Q5. Explain Primary Key and Foreign Key.'''"
   ]
  },
  {
   "cell_type": "code",
   "execution_count": 5,
   "id": "d00e39f3-c921-4f05-b3b6-62cd4d747355",
   "metadata": {},
   "outputs": [
    {
     "data": {
      "text/plain": [
       "\"Relational databases use two key concepts—primary key and foreign key—to create relationships between tables and guarantee data integrity.\\n\\nPrincipal Key\\n\\nA column, or group of columns, in a database that uniquely identifies every record or row in the table is called a primary key.\\nIt cannot have null values and each row must have a unique value.\\nYou can make sure that every record in a table can be uniquely identified by establishing a Primary Key.\\nA table may have only one Primary Key defined.\\nNot a native key\\n\\nA table's foreign key is a column, or group of columns, that creates a connection between the data in two tables.\\nIt alludes to another table's Primary Key, which is typically connected.\\nBy guaranteeing that values in the Foreign Key column either exist in the Primary Key column of the referenced table or are null, \\nthe Foreign Key constraint preserves referential integrity.\\nIn a relational database, it facilitates the enforcement of relationships and consistency between tables.\""
      ]
     },
     "execution_count": 5,
     "metadata": {},
     "output_type": "execute_result"
    }
   ],
   "source": [
    "'''Relational databases use two key concepts—primary key and foreign key—to create relationships between tables and guarantee data integrity.\n",
    "\n",
    "Principal Key\n",
    "\n",
    "A column, or group of columns, in a database that uniquely identifies every record or row in the table is called a primary key.\n",
    "It cannot have null values and each row must have a unique value.\n",
    "You can make sure that every record in a table can be uniquely identified by establishing a Primary Key.\n",
    "A table may have only one Primary Key defined.\n",
    "Not a native key\n",
    "\n",
    "A table's foreign key is a column, or group of columns, that creates a connection between the data in two tables.\n",
    "It alludes to another table's Primary Key, which is typically connected.\n",
    "By guaranteeing that values in the Foreign Key column either exist in the Primary Key column of the referenced table or are null, \n",
    "the Foreign Key constraint preserves referential integrity.\n",
    "In a relational database, it facilitates the enforcement of relationships and consistency between tables.'''\n"
   ]
  },
  {
   "cell_type": "code",
   "execution_count": 6,
   "id": "ce423d33-dc47-421c-804a-3d2f6c8e1bc0",
   "metadata": {},
   "outputs": [
    {
     "data": {
      "text/plain": [
       "'Q6. Write a python code to connect MySQL to python. Explain the cursor() and execute() method.'"
      ]
     },
     "execution_count": 6,
     "metadata": {},
     "output_type": "execute_result"
    }
   ],
   "source": [
    "'''Q6. Write a python code to connect MySQL to python. Explain the cursor() and execute() method.'''"
   ]
  },
  {
   "cell_type": "code",
   "execution_count": null,
   "id": "99d34772-abeb-4784-9d7b-a950efbd1d6f",
   "metadata": {},
   "outputs": [],
   "source": [
    "\n"
   ]
  },
  {
   "cell_type": "code",
   "execution_count": 14,
   "id": "4435248f-fbf1-4faa-abed-6745f96ccc43",
   "metadata": {},
   "outputs": [
    {
     "data": {
      "text/plain": [
       "'import mysql.connector\\n\\ntry:\\n    connection = mysql.connector.connect(\\n        host=\\'xyz\\',\\n        user=\\'abc\\',\\n        password=\\'123\\',\\n        database=\\'your_database\\'\\n    )\\n\\n    if connection.is_connected():\\n        print(\"Connected to MySQL database!\")\\n\\n\\n    cursor = connection.cursor()\\n\\n\\n    cursor.execute(\"SELECT * FROM your_table\")\\n\\n    rows = cursor.fetchall()\\n    for row in rows:\\n        print(row)\\n\\nexcept mysql.connector.Error as e:\\n    print(\"Error connecting to MySQL:\", e)\\n\\nfinally:\\n\\n    if \\'connection\\' in locals() and connection.is_connected():\\n        cursor.close()\\n        connection.close()\\n        print(\"MySQL connection is closed.\")\\ncursor() technique:\\n\\nYou can work with the MySQL database by creating a cursor object with the cursor() method.\\nYou can run SQL queries on it, retrieve data, and carry out different database actions.\\nuse the execute() method\\n\\nSQL queries are executed using the cursor object\\'s execute() method.\\nThis function receives SQL queries as strings.\\nIt can carry out Data Definition Language (DDL) queries (such as CREATE, DROP, ALTER) and Data Manipulation Language (DML)\\nqueries (such as SELECT, INSERT, UPDATE, and DELETE).'"
      ]
     },
     "execution_count": 14,
     "metadata": {},
     "output_type": "execute_result"
    }
   ],
   "source": [
    "\n",
    "\n",
    "\n",
    "'''import mysql.connector\n",
    "\n",
    "try:\n",
    "    connection = mysql.connector.connect(\n",
    "        host='xyz',\n",
    "        user='abc',\n",
    "        password='123',\n",
    "        database='your_database'\n",
    "    )\n",
    "\n",
    "    if connection.is_connected():\n",
    "        print(\"Connected to MySQL database!\")\n",
    "\n",
    "\n",
    "    cursor = connection.cursor()\n",
    "\n",
    "\n",
    "    cursor.execute(\"SELECT * FROM your_table\")\n",
    "\n",
    "    rows = cursor.fetchall()\n",
    "    for row in rows:\n",
    "        print(row)\n",
    "\n",
    "except mysql.connector.Error as e:\n",
    "    print(\"Error connecting to MySQL:\", e)\n",
    "\n",
    "finally:\n",
    "\n",
    "    if 'connection' in locals() and connection.is_connected():\n",
    "        cursor.close()\n",
    "        connection.close()\n",
    "        print(\"MySQL connection is closed.\")\n",
    "cursor() technique:\n",
    "\n",
    "You can work with the MySQL database by creating a cursor object with the cursor() method.\n",
    "You can run SQL queries on it, retrieve data, and carry out different database actions.\n",
    "use the execute() method\n",
    "\n",
    "SQL queries are executed using the cursor object's execute() method.\n",
    "This function receives SQL queries as strings.\n",
    "It can carry out Data Definition Language (DDL) queries (such as CREATE, DROP, ALTER) and Data Manipulation Language (DML)\n",
    "queries (such as SELECT, INSERT, UPDATE, and DELETE).'''\n"
   ]
  },
  {
   "cell_type": "code",
   "execution_count": 15,
   "id": "41d3d150-887a-4c78-9701-11eba9b734ff",
   "metadata": {},
   "outputs": [
    {
     "data": {
      "text/plain": [
       "'Q7. Give the order of execution of SQL clauses in an SQL query.'"
      ]
     },
     "execution_count": 15,
     "metadata": {},
     "output_type": "execute_result"
    }
   ],
   "source": [
    "'''Q7. Give the order of execution of SQL clauses in an SQL query.'''"
   ]
  },
  {
   "cell_type": "code",
   "execution_count": 16,
   "id": "1a980bd4-d907-4604-94a0-abefca1d05d7",
   "metadata": {},
   "outputs": [
    {
     "data": {
      "text/plain": [
       "' When building a multi-clause SQL query, there is a \\nparticular order in which the clauses are executed. In a SELECT statement, the SQL clauses usually appear in the following order:\\n\\nFROM: The tables from which data will be fetched are listed in the FROM clause. In a SELECT statement, it is the first clause to be executed.\\n\\n\\nWHERE: Using a predetermined criterion, the WHERE clause selects rows from the tables listed in the FROM clause. It serves as a filter for the \\nrows that satisfy the given requirements.\\n\\nGROUP BY: When using aggregate functions like SUM, COUNT, AVG, and so forth, rows with the same values are grouped together into summary rows\\nusing the GROUP BY clause. It works with the rows that come from'"
      ]
     },
     "execution_count": 16,
     "metadata": {},
     "output_type": "execute_result"
    }
   ],
   "source": [
    "''' When building a multi-clause SQL query, there is a \n",
    "particular order in which the clauses are executed. In a SELECT statement, the SQL clauses usually appear in the following order:\n",
    "\n",
    "FROM: The tables from which data will be fetched are listed in the FROM clause. In a SELECT statement, it is the first clause to be executed.\n",
    "\n",
    "\n",
    "WHERE: Using a predetermined criterion, the WHERE clause selects rows from the tables listed in the FROM clause. It serves as a filter for the \n",
    "rows that satisfy the given requirements.\n",
    "\n",
    "GROUP BY: When using aggregate functions like SUM, COUNT, AVG, and so forth, rows with the same values are grouped together into summary rows\n",
    "using the GROUP BY clause. It works with the rows that come from'''"
   ]
  },
  {
   "cell_type": "code",
   "execution_count": null,
   "id": "433244c4-edbe-4967-96f8-5faa13c401b8",
   "metadata": {},
   "outputs": [],
   "source": []
  }
 ],
 "metadata": {
  "kernelspec": {
   "display_name": "Python 3 (ipykernel)",
   "language": "python",
   "name": "python3"
  },
  "language_info": {
   "codemirror_mode": {
    "name": "ipython",
    "version": 3
   },
   "file_extension": ".py",
   "mimetype": "text/x-python",
   "name": "python",
   "nbconvert_exporter": "python",
   "pygments_lexer": "ipython3",
   "version": "3.10.8"
  }
 },
 "nbformat": 4,
 "nbformat_minor": 5
}
